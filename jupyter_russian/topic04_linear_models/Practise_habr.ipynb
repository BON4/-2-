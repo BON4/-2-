{
 "cells": [
  {
   "cell_type": "code",
   "execution_count": 209,
   "metadata": {},
   "outputs": [],
   "source": [
    "from __future__ import division, print_function\n",
    "# отключим всякие предупреждения Anaconda\n",
    "import warnings\n",
    "warnings.filterwarnings('ignore')\n",
    "import numpy as np\n",
    "import matplotlib.pyplot as plt\n",
    "%matplotlib inline\n",
    "import seaborn as sns\n",
    "import numpy as np\n",
    "from sklearn.datasets import load_files\n",
    "from sklearn.feature_extraction.text import CountVectorizer, TfidfTransformer, TfidfVectorizer\n",
    "from sklearn.linear_model import Ridge, RidgeCV\n",
    "from sklearn.svm import LinearSVC\n",
    "import pandas as pd\n",
    "from sklearn.linear_model import LogisticRegression\n",
    "from sklearn.preprocessing import StandardScaler, LabelBinarizer\n",
    "from scipy.sparse import csr_matrix, hstack\n",
    "from sklearn.metrics import mean_squared_error, r2_score"
   ]
  },
  {
   "cell_type": "code",
   "execution_count": 3,
   "metadata": {},
   "outputs": [],
   "source": [
    "post_train = pd.read_csv(\"../../data/howpop_train.csv\")\n",
    "post_test = pd.read_csv(\"../../data/howpop_test.csv\")"
   ]
  },
  {
   "cell_type": "code",
   "execution_count": 4,
   "metadata": {},
   "outputs": [
    {
     "data": {
      "text/html": [
       "<div>\n",
       "<style scoped>\n",
       "    .dataframe tbody tr th:only-of-type {\n",
       "        vertical-align: middle;\n",
       "    }\n",
       "\n",
       "    .dataframe tbody tr th {\n",
       "        vertical-align: top;\n",
       "    }\n",
       "\n",
       "    .dataframe thead th {\n",
       "        text-align: right;\n",
       "    }\n",
       "</style>\n",
       "<table border=\"1\" class=\"dataframe\">\n",
       "  <thead>\n",
       "    <tr style=\"text-align: right;\">\n",
       "      <th></th>\n",
       "      <th>url</th>\n",
       "      <th>domain</th>\n",
       "      <th>post_id</th>\n",
       "      <th>published</th>\n",
       "      <th>author</th>\n",
       "      <th>flow</th>\n",
       "      <th>polling</th>\n",
       "      <th>content_len</th>\n",
       "      <th>title</th>\n",
       "    </tr>\n",
       "  </thead>\n",
       "  <tbody>\n",
       "    <tr>\n",
       "      <th>0</th>\n",
       "      <td>https://habrahabr.ru/post/314080/</td>\n",
       "      <td>habrahabr.ru</td>\n",
       "      <td>314080</td>\n",
       "      <td>2016-11-01 01:05:00</td>\n",
       "      <td>@fsou11</td>\n",
       "      <td>develop</td>\n",
       "      <td>True</td>\n",
       "      <td>20132</td>\n",
       "      <td>Опыт использования MassTransit 3.0</td>\n",
       "    </tr>\n",
       "    <tr>\n",
       "      <th>1</th>\n",
       "      <td>https://habrahabr.ru/company/plesk/blog/313732/</td>\n",
       "      <td>habrahabr.ru</td>\n",
       "      <td>313732</td>\n",
       "      <td>2016-11-01 05:42:00</td>\n",
       "      <td>NaN</td>\n",
       "      <td>marketing</td>\n",
       "      <td>False</td>\n",
       "      <td>12389</td>\n",
       "      <td>Геймификация форума на движке XenForo</td>\n",
       "    </tr>\n",
       "    <tr>\n",
       "      <th>2</th>\n",
       "      <td>https://habrahabr.ru/company/etagi/blog/314000/</td>\n",
       "      <td>habrahabr.ru</td>\n",
       "      <td>314000</td>\n",
       "      <td>2016-11-01 08:33:00</td>\n",
       "      <td>NaN</td>\n",
       "      <td>admin</td>\n",
       "      <td>False</td>\n",
       "      <td>72839</td>\n",
       "      <td>Кластер высокой доступности на postgresql 9.6 ...</td>\n",
       "    </tr>\n",
       "    <tr>\n",
       "      <th>3</th>\n",
       "      <td>https://habrahabr.ru/company/knopka/blog/314030/</td>\n",
       "      <td>habrahabr.ru</td>\n",
       "      <td>314030</td>\n",
       "      <td>2016-11-01 09:00:00</td>\n",
       "      <td>NaN</td>\n",
       "      <td>develop</td>\n",
       "      <td>False</td>\n",
       "      <td>29572</td>\n",
       "      <td>Как перестать бояться и полюбить синтаксически...</td>\n",
       "    </tr>\n",
       "    <tr>\n",
       "      <th>4</th>\n",
       "      <td>https://geektimes.ru/company/audiomania/blog/2...</td>\n",
       "      <td>geektimes.ru</td>\n",
       "      <td>282058</td>\n",
       "      <td>2016-11-01 09:44:00</td>\n",
       "      <td>NaN</td>\n",
       "      <td>NaN</td>\n",
       "      <td>False</td>\n",
       "      <td>9642</td>\n",
       "      <td>Мифы и реальность: Что нужно знать о современн...</td>\n",
       "    </tr>\n",
       "  </tbody>\n",
       "</table>\n",
       "</div>"
      ],
      "text/plain": [
       "                                                 url        domain  post_id  \\\n",
       "0                  https://habrahabr.ru/post/314080/  habrahabr.ru   314080   \n",
       "1    https://habrahabr.ru/company/plesk/blog/313732/  habrahabr.ru   313732   \n",
       "2    https://habrahabr.ru/company/etagi/blog/314000/  habrahabr.ru   314000   \n",
       "3   https://habrahabr.ru/company/knopka/blog/314030/  habrahabr.ru   314030   \n",
       "4  https://geektimes.ru/company/audiomania/blog/2...  geektimes.ru   282058   \n",
       "\n",
       "             published   author       flow  polling  content_len  \\\n",
       "0  2016-11-01 01:05:00  @fsou11    develop     True        20132   \n",
       "1  2016-11-01 05:42:00      NaN  marketing    False        12389   \n",
       "2  2016-11-01 08:33:00      NaN      admin    False        72839   \n",
       "3  2016-11-01 09:00:00      NaN    develop    False        29572   \n",
       "4  2016-11-01 09:44:00      NaN        NaN    False         9642   \n",
       "\n",
       "                                               title  \n",
       "0                 Опыт использования MassTransit 3.0  \n",
       "1              Геймификация форума на движке XenForo  \n",
       "2  Кластер высокой доступности на postgresql 9.6 ...  \n",
       "3  Как перестать бояться и полюбить синтаксически...  \n",
       "4  Мифы и реальность: Что нужно знать о современн...  "
      ]
     },
     "execution_count": 4,
     "metadata": {},
     "output_type": "execute_result"
    }
   ],
   "source": [
    "post_test.head() "
   ]
  },
  {
   "cell_type": "code",
   "execution_count": 5,
   "metadata": {},
   "outputs": [],
   "source": [
    "Post_title_train = pd.DataFrame(post_train.drop(['post_id', 'url', 'domain', 'author', 'flow', 'polling',\n",
    "                                    'content_len', 'comments', 'favs', 'views',\n",
    "                                    'votes_plus', 'votes_minus', 'views_lognorm',\n",
    "                                    'favs_lognorm', 'comments_lognorm'], axis=1))\n",
    "\n",
    "Post_title_test = pd.DataFrame(post_test.drop(['post_id', 'url', 'domain', 'author', 'flow', 'polling',\n",
    "                                    'content_len'], axis=1))                 "
   ]
  },
  {
   "cell_type": "code",
   "execution_count": 6,
   "metadata": {},
   "outputs": [],
   "source": [
    "Post_target_train =   pd.DataFrame(post_train.drop(['post_id', 'url', 'domain', 'published','author', 'flow', 'polling', 'title',\n",
    "                                    'content_len', 'comments', 'views',\n",
    "                                    'votes_plus', 'votes_minus', 'views_lognorm',\n",
    "                                    'favs_lognorm', 'comments_lognorm'], axis=1))"
   ]
  },
  {
   "cell_type": "code",
   "execution_count": 7,
   "metadata": {},
   "outputs": [
    {
     "data": {
      "text/plain": [
       "CountVectorizer(analyzer='word', binary=False, decode_error='strict',\n",
       "                dtype=<class 'numpy.int64'>, encoding='utf-8', input='content',\n",
       "                lowercase=True, max_df=1.0, max_features=None, min_df=1,\n",
       "                ngram_range=(1, 1), preprocessor=None, stop_words=None,\n",
       "                strip_accents=None, token_pattern='(?u)\\\\b\\\\w\\\\w+\\\\b',\n",
       "                tokenizer=None, vocabulary=None)"
      ]
     },
     "execution_count": 7,
     "metadata": {},
     "output_type": "execute_result"
    }
   ],
   "source": [
    "cv = CountVectorizer()\n",
    "cv.fit(Post_title_train['title'])"
   ]
  },
  {
   "cell_type": "code",
   "execution_count": 8,
   "metadata": {},
   "outputs": [
    {
     "name": "stdout",
     "output_type": "stream",
     "text": [
      "100202\n"
     ]
    }
   ],
   "source": [
    "print(len(cv.vocabulary_))"
   ]
  },
  {
   "cell_type": "code",
   "execution_count": 9,
   "metadata": {},
   "outputs": [
    {
     "name": "stdout",
     "output_type": "stream",
     "text": [
      "['00', '000', '00000000', '000008', '0001', '000webhost', '000р', '001', '0010', '002', '002x', '003', '004', '005', '007', '009', '00x', '01', '010', '0101', '01100100', '012', '013', '01410', '0183', '01e', '02', '020', '0204', '021', '0224', '023', '0249', '02b', '03', '030', '034', '036', '04', '0402', '045', '0497', '05', '0507', '051', '057', '06', '060', '0603', '061']\n"
     ]
    }
   ],
   "source": [
    "print(cv.get_feature_names()[:50])"
   ]
  },
  {
   "cell_type": "code",
   "execution_count": 10,
   "metadata": {},
   "outputs": [
    {
     "name": "stdout",
     "output_type": "stream",
     "text": [
      "['киберугроз', 'киберугрозам', 'киберугрозы', 'киберуслуг', 'киберхелпер', 'кибершпионаж', 'кибершпионажа', 'кибершпионажем', 'кибершпионское', 'киберэпоху', 'кибитка', 'кибкало', 'киборг', 'киборга', 'киборгам', 'киборгами', 'киборги', 'киборгизация', 'киборгов', 'киборифе', 'киви', 'кид', 'кидаем', 'кидай', 'кидалова', 'киддисов', 'кидков', 'кидок', 'кидхак', 'киев', 'киева', 'киеве', 'киевская', 'киевские', 'киевский', 'киевских', 'киевского', 'киевской', 'киевском', 'киевстар', 'кикстартер', 'кикстартера', 'кикстартере', 'кикстартеру', 'киллер', 'килобайт', 'килобайта', 'килобайтный', 'киловатт', 'киловаттную']\n"
     ]
    }
   ],
   "source": [
    "print(cv.get_feature_names()[50000:50050])"
   ]
  },
  {
   "cell_type": "code",
   "execution_count": null,
   "metadata": {},
   "outputs": [],
   "source": []
  },
  {
   "cell_type": "code",
   "execution_count": 172,
   "metadata": {},
   "outputs": [],
   "source": [
    "X_train = cv.transform(Post_title_train['title'])\n",
    "X_test = cv.transform(Post_title_test['title'])"
   ]
  },
  {
   "cell_type": "code",
   "execution_count": null,
   "metadata": {},
   "outputs": [],
   "source": []
  },
  {
   "cell_type": "markdown",
   "metadata": {},
   "source": [
    "### Добавлю новые признаки"
   ]
  },
  {
   "cell_type": "code",
   "execution_count": 12,
   "metadata": {},
   "outputs": [],
   "source": [
    "new_feat_train = pd.DataFrame(index=Post_title_train.index)\n",
    "new_feat_test = pd.DataFrame(index=Post_title_test.index)"
   ]
  },
  {
   "cell_type": "code",
   "execution_count": 188,
   "metadata": {},
   "outputs": [],
   "source": [
    "new_feat_train['year_m'] = Post_title_train['published'].apply(lambda ts: pd.to_datetime(ts))\n",
    "new_feat_test['year_m'] = Post_title_test['published'].apply(lambda ts: pd.to_datetime(ts))"
   ]
  },
  {
   "cell_type": "code",
   "execution_count": 189,
   "metadata": {},
   "outputs": [],
   "source": [
    "new_feat_train['year_m'] = new_feat_train['year_m'].apply(lambda ts: ts.year * 100 + ts.month)\n",
    "new_feat_test['year_m'] = new_feat_test['year_m'].apply(lambda ts: ts.year * 100 + ts.month)"
   ]
  },
  {
   "cell_type": "code",
   "execution_count": null,
   "metadata": {},
   "outputs": [],
   "source": []
  },
  {
   "cell_type": "markdown",
   "metadata": {},
   "source": [
    "Заскейлю данные"
   ]
  },
  {
   "cell_type": "code",
   "execution_count": 196,
   "metadata": {},
   "outputs": [],
   "source": [
    "scaler = StandardScaler()\n",
    "scaler.fit(new_feat_train['year_m'].values.reshape(-1, 1))\n",
    "# Создадим новый признак который уже будет маштабированым\n",
    "new_feat_train['year_m_scaled'] = scaler.transform(new_feat_train['year_m'].values.reshape(-1, 1))\n",
    "new_feat_test['year_m_scaled'] = scaler.transform(new_feat_test['year_m'].values.reshape(-1, 1))"
   ]
  },
  {
   "cell_type": "code",
   "execution_count": null,
   "metadata": {},
   "outputs": [],
   "source": []
  },
  {
   "cell_type": "code",
   "execution_count": 212,
   "metadata": {},
   "outputs": [],
   "source": [
    "def get_auc_lr_valid(X, y, A = 0, ratio = 0.9, seed=17):\n",
    "    '''\n",
    "    X, y – выборка\n",
    "    ratio – в каком отношении поделить выборку\n",
    "    C, seed – коэф-т регуляризации и random_state \n",
    "              логистической регрессии\n",
    "    '''\n",
    "    train_len = int(ratio * X.shape[0])\n",
    "    X_train = X[:train_len, :]\n",
    "    X_valid = X[train_len:, :]\n",
    "    y_train = y[:train_len]\n",
    "    y_valid = y[train_len:]\n",
    "    y_valid = y_valid.astype(float)\n",
    "    \n",
    "    ridge = Ridge(alpha=A)\n",
    "    ridge.fit(X_train, y_train)\n",
    "    val = ridge.predict(X_valid)\n",
    "    #logit.predict - будет предсказывать 0 или 1. Ответы будут некоректны и иногда неправельны. Поэтому лучше предсказывать вероятности\n",
    "    #valid_pred = pd.Series(np.reshape(val, len(val)), index=y_valid.index) # [:, 1] - берём только второй столбец где предсказанавероятность что это 1\n",
    "    return np.sqrt(mean_squared_error(y_valid, val)), r2_score(y_valid, val)"
   ]
  },
  {
   "cell_type": "code",
   "execution_count": null,
   "metadata": {},
   "outputs": [],
   "source": []
  },
  {
   "cell_type": "code",
   "execution_count": null,
   "metadata": {},
   "outputs": [],
   "source": []
  },
  {
   "cell_type": "code",
   "execution_count": null,
   "metadata": {},
   "outputs": [],
   "source": []
  },
  {
   "cell_type": "code",
   "execution_count": 216,
   "metadata": {},
   "outputs": [],
   "source": [
    "X_train_new = csr_matrix(hstack([X_train, new_feat_train['year_m_scaled'].values.reshape(-1, 1)]))\n",
    "X_test_new = csr_matrix(hstack([X_test, new_feat_test['year_m_scaled'].values.reshape(-1, 1)]))"
   ]
  },
  {
   "cell_type": "code",
   "execution_count": 179,
   "metadata": {},
   "outputs": [
    {
     "data": {
      "text/plain": [
       "array([1.        , 1.        , 1.        , ..., 1.        , 1.        ,\n",
       "       1.41774972])"
      ]
     },
     "execution_count": 179,
     "metadata": {},
     "output_type": "execute_result"
    }
   ],
   "source": []
  },
  {
   "cell_type": "code",
   "execution_count": 29,
   "metadata": {},
   "outputs": [],
   "source": []
  },
  {
   "cell_type": "code",
   "execution_count": null,
   "metadata": {},
   "outputs": [],
   "source": []
  },
  {
   "cell_type": "code",
   "execution_count": 220,
   "metadata": {},
   "outputs": [
    {
     "data": {
      "text/plain": [
       "(161.27213345052303, -0.845792329567574)"
      ]
     },
     "execution_count": 220,
     "metadata": {},
     "output_type": "execute_result"
    }
   ],
   "source": [
    "get_auc_lr_valid(X_train_new, Post_target_train, 1,  0.7)"
   ]
  },
  {
   "cell_type": "code",
   "execution_count": null,
   "metadata": {},
   "outputs": [],
   "source": []
  },
  {
   "cell_type": "code",
   "execution_count": null,
   "metadata": {},
   "outputs": [],
   "source": []
  },
  {
   "cell_type": "code",
   "execution_count": null,
   "metadata": {},
   "outputs": [],
   "source": []
  },
  {
   "cell_type": "code",
   "execution_count": null,
   "metadata": {},
   "outputs": [],
   "source": []
  },
  {
   "cell_type": "code",
   "execution_count": null,
   "metadata": {},
   "outputs": [],
   "source": []
  },
  {
   "cell_type": "code",
   "execution_count": null,
   "metadata": {},
   "outputs": [],
   "source": []
  }
 ],
 "metadata": {
  "kernelspec": {
   "display_name": "Python 3",
   "language": "python",
   "name": "python3"
  },
  "language_info": {
   "codemirror_mode": {
    "name": "ipython",
    "version": 3
   },
   "file_extension": ".py",
   "mimetype": "text/x-python",
   "name": "python",
   "nbconvert_exporter": "python",
   "pygments_lexer": "ipython3",
   "version": "3.7.3"
  }
 },
 "nbformat": 4,
 "nbformat_minor": 4
}
